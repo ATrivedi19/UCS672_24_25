{
 "cells": [
  {
   "cell_type": "code",
   "execution_count": null,
   "id": "eafd78f7",
   "metadata": {},
   "outputs": [],
   "source": [
    "# Q1: Split the string into a list\n",
    "s = \"Hi there Class!\"\n",
    "list_s = s.split()\n",
    "print(list_s)"
   ]
  },
  {
   "cell_type": "code",
   "execution_count": null,
   "id": "17484a94",
   "metadata": {},
   "outputs": [],
   "source": [
    "# Q2: Use .format() to print the string\n",
    "planet = \"Earth\"\n",
    "diameter = 12742\n",
    "print(\"The diameter of {} is {} kilometers.\".format(planet, diameter))"
   ]
  },
  {
   "cell_type": "code",
   "execution_count": null,
   "id": "d2642aac",
   "metadata": {},
   "outputs": [],
   "source": [
    "# Q3: Grab the word \"hello\" from the nested list\n",
    "lst = [1, 2, [3, 4], [5, [100, 200, [\"hello\"]], 23, 11], 1, 7]\n",
    "word_hello = lst[3][1][2][0]\n",
    "print(word_hello)"
   ]
  },
  {
   "cell_type": "code",
   "execution_count": null,
   "id": "1a11bfc7",
   "metadata": {},
   "outputs": [],
   "source": [
    "# Q4: Grab the word \"hello\" from the nested dictionary\n",
    "d = {\"k1\": [1, 2, 3, {\"tricky\": [\"oh\", \"man\", \"inception\", {\"target\": [1, 2, 3, \"hello\"]}]}]}\n",
    "word_hello_dict = d[\"k1\"][3][\"tricky\"][3][\"target\"][3]\n",
    "print(word_hello_dict)"
   ]
  },
  {
   "cell_type": "code",
   "execution_count": null,
   "id": "fc94c96a",
   "metadata": {},
   "outputs": [],
   "source": [
    "# Q5: Create a function to grab the email domain\n",
    "def get_domain(email):\n",
    "    return email.split(\"@\")[-1]\n",
    "\n",
    "print(get_domain(\"user@domain.com\"))"
   ]
  },
  {
   "cell_type": "code",
   "execution_count": null,
   "id": "70eb3bbc",
   "metadata": {},
   "outputs": [],
   "source": [
    "# Q6: Create a function to check if \"dog\" is in the string\n",
    "def contains_dog(string):\n",
    "    return \"dog\" in string.lower()\n",
    "\n",
    "print(contains_dog(\"My dog is cute\"))"
   ]
  },
  {
   "cell_type": "code",
   "execution_count": null,
   "id": "ceeb7d11",
   "metadata": {},
   "outputs": [],
   "source": [
    "# Q7: Create a function to count occurrences of \"dog\" in a string\n",
    "def count_dog(string):\n",
    "    return string.lower().split().count(\"dog\")\n",
    "\n",
    "print(count_dog(\"dog dog DOG\"))"
   ]
  },
  {
   "cell_type": "code",
   "execution_count": null,
   "id": "5cd5f0e7",
   "metadata": {},
   "outputs": [],
   "source": [
    "# Q8: Filter words that start with \"s\" using lambda and filter\n",
    "seq = [\"soup\", \"dog\", \"salad\", \"cat\", \"great\"]\n",
    "filtered_seq = list(filter(lambda word: word.startswith(\"s\"), seq))\n",
    "print(filtered_seq)"
   ]
  },
  {
   "cell_type": "code",
   "execution_count": null,
   "id": "cd906408",
   "metadata": {},
   "outputs": [],
   "source": [
    "# Q9: Function to determine the type of challan based on speed\n",
    "def caught_speeding(speed, is_birthday):\n",
    "    if is_birthday:\n",
    "        speed -= 5\n",
    "    if speed <= 60:\n",
    "        return \"No Challan\"\n",
    "    elif speed <= 80:\n",
    "        return \"Small Challan\"\n",
    "    else:\n",
    "        return \"Heavy Challan\"\n",
    "\n",
    "print(caught_speeding(81, True))\n",
    "print(caught_speeding(81, False))"
   ]
  },
  {
   "cell_type": "code",
   "execution_count": null,
   "id": "752cc46d",
   "metadata": {},
   "outputs": [],
   "source": [
    "# Q10: Concatenate two lists index-wise\n",
    "list1 = [\"M\", \"na\", \"i\", \"She\"]\n",
    "list2 = [\"y\", \"me\", \"s\", \"lly\"]\n",
    "concatenated_list = [i + j for i, j in zip(list1, list2)]\n",
    "print(concatenated_list)"
   ]
  },
  {
   "cell_type": "code",
   "execution_count": null,
   "id": "ad2bc3a9",
   "metadata": {},
   "outputs": [],
   "source": [
    "# Q11: Concatenate two lists in all combinations\n",
    "list1 = [\"Hello \", \"take \"]\n",
    "list2 = [\"Dear\", \"Sir\"]\n",
    "combined_list = [i + j for i in list1 for j in list2]\n",
    "print(combined_list)"
   ]
  },
  {
   "cell_type": "code",
   "execution_count": null,
   "id": "d3ea44cb",
   "metadata": {},
   "outputs": [],
   "source": [
    "# Q12: Add item 7000 after 6000 in the nested list\n",
    "list1 = [10, 20, [300, 400, [5000, 6000], 500], 30, 40]\n",
    "list1[2][2].insert(2, 7000)\n",
    "print(list1)"
   ]
  },
  {
   "cell_type": "code",
   "execution_count": null,
   "id": "9593a286",
   "metadata": {},
   "outputs": [],
   "source": [
    "# Q13: Remove all occurrences of 20 from the list\n",
    "list1 = [5, 20, 15, 20, 25, 50, 20]\n",
    "list1 = [x for x in list1 if x != 20]\n",
    "print(list1)"
   ]
  },
  {
   "cell_type": "code",
   "execution_count": null,
   "id": "41e0cbb2",
   "metadata": {},
   "outputs": [],
   "source": [
    "# Q14: Check if 200 exists in the dictionary\n",
    "d1 = {\"a\": 100, \"b\": 200, \"c\": 300}\n",
    "print(200 in d1.values())"
   ]
  },
  {
   "cell_type": "code",
   "execution_count": null,
   "id": "d4761eb0",
   "metadata": {},
   "outputs": [],
   "source": [
    "# Q15: Find the sum of the series 2 + 22 + 222 + ... up to n terms\n",
    "def sum_of_series(n):\n",
    "    result = 0\n",
    "    num = 2\n",
    "    for _ in range(n):\n",
    "        result += num\n",
    "        num = num * 10 + 2\n",
    "    return result\n",
    "\n",
    "n_terms = 4\n",
    "print(sum_of_series(n_terms))"
   ]
  }
 ],
 "metadata": {
  "kernelspec": {
   "display_name": "Python 3 (ipykernel)",
   "language": "python",
   "name": "python3"
  },
  "language_info": {
   "codemirror_mode": {
    "name": "ipython",
    "version": 3
   },
   "file_extension": ".py",
   "mimetype": "text/x-python",
   "name": "python",
   "nbconvert_exporter": "python",
   "pygments_lexer": "ipython3",
   "version": "3.9.7"
  }
 },
 "nbformat": 4,
 "nbformat_minor": 5
}
